{
  "nbformat": 4,
  "nbformat_minor": 0,
  "metadata": {
    "colab": {
      "provenance": []
    },
    "kernelspec": {
      "name": "python3",
      "display_name": "Python 3"
    },
    "language_info": {
      "name": "python"
    }
  },
  "cells": [
    {
      "cell_type": "markdown",
      "source": [
        "Use any SVM Library to classify these datasets\n",
        "https://drive.google.com/file/d/1wxPLNOiGmgBnP-fRqVsgVK9-Wv3juL9z/view?usp=drive_web&authuser=0\n",
        "\n"
      ],
      "metadata": {
        "id": "W0eYqvIVFZIV"
      }
    },
    {
      "cell_type": "markdown",
      "source": [
        "\n",
        "\n",
        "1. Use different kernels with and without regularization (40 pt)\n",
        "2. Comment on each result (20 pt)\n",
        "3. Visualize every single step (20 pt)\n",
        "3. You are required to prepare a report and presentation discussing the following (20 pt):\n",
        "  * Problem definition and motivation: the task you are working on and why it is important.\n",
        "  * Dataset: describe the dataset.\n",
        "  * Approach and methodology: description of your approach including data pre-processing, model parameters, and model evaluation.\n",
        "  *  Implementation: Discuss the tools and libraries used in your analysis and the process you used to tune the hyperparameters.\n",
        "  * Conclusion: final evaluation of your approach, things you learned during the implementation, and tips to improve your models\n"
      ],
      "metadata": {
        "id": "PGP9hCPiFVjr"
      }
    },
    {
      "cell_type": "markdown",
      "source": [
        "Bonus:\n",
        "<br> * Build your own SVM. You can use any quadratic programming library to solve Lagrange equations. (5 pt)\n",
        "<br> * Use GridSearchCV with various hyperparameters, kernel options, and regularization techniques to optimize your model's performance. (5 pt)"
      ],
      "metadata": {
        "id": "8bt6RP9WGY7M"
      }
    },
    {
      "cell_type": "markdown",
      "source": [
        "# **Import the needed libraries**"
      ],
      "metadata": {
        "id": "07EWRRTp-HiV"
      }
    },
    {
      "cell_type": "code",
      "source": [
        "import numpy as np\n",
        "import pandas as pd\n",
        "import itertools\n",
        "from sklearn import datasets\n",
        "from sklearn.preprocessing import LabelEncoder\n",
        "from sklearn.preprocessing import StandardScaler\n",
        "from sklearn.model_selection import cross_val_score\n",
        "from sklearn.model_selection import train_test_split\n",
        "from sklearn import metrics\n",
        "import matplotlib.gridspec as gridspec\n",
        "from mlxtend.preprocessing import shuffle_arrays_unison\n",
        "import seaborn as sns\n",
        "from tqdm.notebook import tqdm_notebook as tqdm\n",
        "from sklearn.svm import SVC\n",
        "from sklearn.model_selection import GridSearchCV\n",
        "from sklearn.svm import LinearSVR\n",
        "from sklearn.metrics import mean_absolute_error\n",
        "from sklearn.metrics import accuracy_score\n",
        "from sklearn.svm import SVR\n",
        "import matplotlib.pyplot as plt\n",
        "from mlxtend.plotting import plot_decision_regions\n",
        "from matplotlib.colors import ListedColormap"
      ],
      "metadata": {
        "id": "VbOvv-yl-Ao9"
      },
      "execution_count": 235,
      "outputs": []
    },
    {
      "cell_type": "markdown",
      "source": [
        "# Upload data file and splite the features and target"
      ],
      "metadata": {
        "id": "h2aCNv1j-Y9Z"
      }
    },
    {
      "cell_type": "code",
      "source": [
        "def xy_of_dataset(set_name):\n",
        "    if set_name == 'Aggregation':\n",
        "        data = \"Aggregation.csv\"\n",
        "    elif set_name == 'Compound':\n",
        "        data = \"Compound.csv\"\n",
        "    elif set_name == 'Flame':\n",
        "        data = \"Flame.csv\"\n",
        "    elif set_name == 'Jain':\n",
        "        data = \"Jain.csv\"\n",
        "    elif set_name == 'Spiral':\n",
        "        data = \"Spiral.csv\"\n",
        "    elif set_name == 'Pathbased':\n",
        "        data = \"Pathbased.csv\"\n",
        "    df = pd.read_csv(data, header=None)\n",
        "    print( df.describe())\n",
        "    df.dropna()\n",
        "    df.columns = ['target', 'x1', 'x2']\n",
        "    x = df[['x1', 'x2']]\n",
        "    y = df['target']\n",
        "    num_classes = y.nunique()\n",
        "\n",
        "    print(\"Number of classes:\", num_classes)\n",
        "    x = x.values\n",
        "    y = y.values\n",
        "    return x, y"
      ],
      "metadata": {
        "id": "KNrVxkxnps81"
      },
      "execution_count": 236,
      "outputs": []
    },
    {
      "cell_type": "code",
      "source": [
        " x, y = xy_of_dataset('Pathbased')\n",
        "# # List of dataset names\n",
        "# dataset_names = ['Aggregation', 'Compound', 'Flame', 'Jain', 'Spiral', 'Pathbased']\n",
        "\n",
        "# # Initialize an empty list to store the X_train and y_train datasets\n",
        "# datasets = []\n",
        "\n",
        "# for name in dataset_names:\n",
        "#     # Get X and y for the current dataset\n",
        "#     X, y = xy_of_dataset(name)\n",
        "\n",
        "#     # Write dataset description\n",
        "#     print(f\"Dataset Description for {name}:\")\n",
        "#     print(f\"Number of samples: {len(X)}\")\n",
        "#     print(f\"Number of features: {X.shape[1]}\")\n",
        "#     print(f\"Number of classes: {len(np.unique(y))}\")\n",
        "#     print()  # Add a newline for separation\n",
        "\n",
        "#     # Split the dataset and add X_train, y_train to the list\n",
        "#     X_train, _, y_train, _ = train_test_split(X, y, test_size=0.4, random_state=42)\n",
        "#     datasets.append((X_train, y_train))\n",
        "\n",
        "# # Output the dataset descriptions and store X_train, y_train sets in the 'datasets' list\n"
      ],
      "metadata": {
        "colab": {
          "base_uri": "https://localhost:8080/"
        },
        "id": "V3M9wG_stKuQ",
        "outputId": "cae82fd4-db4d-4213-9e5c-3d44dbe2f60e"
      },
      "execution_count": 237,
      "outputs": [
        {
          "output_type": "stream",
          "name": "stdout",
          "text": [
            "                0           1           2\n",
            "count  300.000000  300.000000  300.000000\n",
            "mean     1.943333   18.846500   17.188500\n",
            "std      0.822015    8.253238    5.855957\n",
            "min      1.000000    4.700000    3.650000\n",
            "25%      1.000000   11.287500   13.687500\n",
            "50%      2.000000   19.100000   16.550000\n",
            "75%      3.000000   26.250000   19.562500\n",
            "max      3.000000   33.050000   31.750000\n",
            "Number of classes: 3\n"
          ]
        }
      ]
    },
    {
      "cell_type": "markdown",
      "source": [
        "#Splite the set to 3 datasets\n",
        "\n",
        "\n",
        "\n",
        "\n",
        "\n"
      ],
      "metadata": {
        "id": "ByUF7WSW_TXz"
      }
    },
    {
      "cell_type": "markdown",
      "source": [
        "1-traing 60%\n",
        "2-validation 20%\n",
        "3-testing 20%**bold text**"
      ],
      "metadata": {
        "id": "e5ZwD68V_w4V"
      }
    },
    {
      "cell_type": "code",
      "source": [
        "X_train, X_temp, y_train, y_temp = train_test_split(x, y, test_size=0.4, random_state=42)\n",
        "X_val, X_test, y_val, y_test = train_test_split(X_temp, y_temp, test_size=0.5, random_state=42)\n"
      ],
      "metadata": {
        "id": "Of3yl0Nd_axK"
      },
      "execution_count": 238,
      "outputs": []
    },
    {
      "cell_type": "markdown",
      "source": [
        "#Use different kernels with and without regularization"
      ],
      "metadata": {
        "id": "CV0rT3Im_83h"
      }
    },
    {
      "cell_type": "code",
      "source": [
        "\n",
        "scaler = StandardScaler()\n",
        "X_train2 = scaler.fit_transform(X_train)\n",
        "X_test2 = scaler.transform(X_test)\n",
        "\n",
        "svm_linear_no_reg = SVC(kernel='linear', C=1.0)\n",
        "svm_linear_with_reg = SVC(kernel='linear', C=0.1)\n",
        "svm_poly_no_reg = SVC(kernel='poly', degree=3, C=1.0)\n",
        "svm_poly_with_reg = SVC(kernel='poly', degree=3, C=0.1)\n",
        "svm_rbf_no_reg = SVC(kernel='rbf', gamma=0.7, C=1.0)\n",
        "svm_rbf_with_reg = SVC(kernel='rbf', gamma=0.7, C=0.1)\n",
        "\n",
        "\n",
        "svm_linear_no_reg.fit(X_train2, y_train)\n",
        "\n",
        "\n",
        "svm_linear_with_reg.fit(X_train2, y_train)\n",
        "svm_poly_no_reg.fit(X_train2, y_train)\n",
        "svm_poly_with_reg.fit(X_train2, y_train)\n",
        "svm_rbf_no_reg.fit(X_train2, y_train)\n",
        "svm_rbf_with_reg.fit(X_train2, y_train)\n",
        "fig, axes = plt.subplots(2, 3, figsize=(15, 10))\n",
        "\n",
        "classifiers = [svm_linear_no_reg, svm_linear_with_reg, svm_poly_no_reg, svm_poly_with_reg, svm_rbf_no_reg, svm_rbf_with_reg]\n",
        "titles = ['Linear (No Regularization)', 'Linear (With Regularization)', 'Polynomial (No Regularization)', 'Polynomial (With Regularization)', 'RBF (No Regularization)', 'RBF (With Regularization)']\n",
        "\n",
        "for clf, ax, title in zip(classifiers, axes.flatten(), titles):\n",
        "    plot_decision_regions(X=X_train2, y=y_train, clf=clf, legend=2, markers='x^sv<>', ax=ax)\n",
        "    ax.set_title(title)\n",
        "\n",
        "plt.tight_layout()\n",
        "plt.show()\n",
        "\n",
        "linear_no_reg_accuracy = accuracy_score(y_test, svm_linear_no_reg.predict(X_test2))\n",
        "linear_with_reg_accuracy = accuracy_score(y_test, svm_linear_with_reg.predict(X_test2))\n",
        "poly_no_reg_accuracy = accuracy_score(y_test, svm_poly_no_reg.predict(X_test2))\n",
        "poly_with_reg_accuracy = accuracy_score(y_test, svm_poly_with_reg.predict(X_test2))\n",
        "rbf_no_reg_accuracy = accuracy_score(y_test, svm_rbf_no_reg.predict(X_test2))\n",
        "rbf_with_reg_accuracy = accuracy_score(y_test, svm_rbf_with_reg.predict(X_test2))s\n",
        "\n",
        "print(\"Linear Kernel without regularization accuracy:\", linear_no_reg_accuracy)\n",
        "print(\"Linear Kernel with regularization accuracy:\", linear_with_reg_accuracy)\n",
        "print(\"Polynomial Kernel without regularization accuracy:\", poly_no_reg_accuracy)\n",
        "print(\"Polynomial Kernel with regularization accuracy:\", poly_with_reg_accuracy)\n",
        "print(\"RBF Kernel without regularization accuracy:\", rbf_no_reg_accuracy)\n",
        "print(\"RBF Kernel with regularization accuracy:\", rbf_with_reg_accuracy)\n"
      ],
      "metadata": {
        "id": "SHh-d3QmRqhC"
      },
      "execution_count": null,
      "outputs": []
    },
    {
      "cell_type": "code",
      "source": [
        "gs = gridspec.GridSpec(2, 2)\n",
        "\n",
        "fig = plt.figure(figsize=(16,16))\n",
        "\n",
        "clf1 = SVC( kernel='linear',C=1)\n",
        "clf3 = SVC( kernel='poly',C=1)\n",
        "clf4 = SVC( kernel='rbf',C=1)\n",
        "scatter_highlight_kwargs = {'s': 50, 'label': 'Test data', 'alpha': 0.7, 'linestyle':'-'}\n",
        "\n",
        "labels = [' Linear Kernel' , ' Polynomial Kernel'  ,' RBF Kernel']\n",
        "for clf, lab, grd in zip([clf1, clf3, clf4],\n",
        "                         labels,\n",
        "                         itertools.product([0, 1], repeat=2)):\n",
        "\n",
        "    clf.fit(X_train, y_train)\n",
        "    ax = plt.subplot(gs[grd[0], grd[1]])\n",
        "    fig = plot_decision_regions(X=X_train, y=y_train, clf=clf, legend=2, markers='x^sv<>')\n",
        "    plt.title(lab)\n",
        "\n",
        "plt.show()\n"
      ],
      "metadata": {
        "id": "ivqiaVKaAFSd"
      },
      "execution_count": 239,
      "outputs": []
    },
    {
      "cell_type": "markdown",
      "source": [
        "#best kernel\n"
      ],
      "metadata": {
        "id": "N6eRVWgSJRgs"
      }
    },
    {
      "cell_type": "code",
      "source": [
        "\n",
        "param_grid_kernel = {'kernel': ['linear', 'poly', 'rbf']}\n",
        "\n",
        "svm_model = SVC()\n",
        "# Perform grid search with cross-validation to find the best kernel and hyperparameters\n",
        "grid_search = GridSearchCV(svm_model, param_grid_kernel, cv=5)  # 5-fold cross-validation\n",
        "grid_search.fit(X_train, y_train)\n",
        "\n",
        "# Get the best kernel from the grid search results\n",
        "best_kernel = grid_search.best_params_['kernel']\n"
      ],
      "metadata": {
        "id": "q731hfGsJRvi"
      },
      "execution_count": 240,
      "outputs": []
    },
    {
      "cell_type": "markdown",
      "source": [
        "# Select the best C"
      ],
      "metadata": {
        "id": "RXX_QPvsAUNp"
      }
    },
    {
      "cell_type": "code",
      "source": [
        "#param_grid_C = {'C': list(np.arange(100, 300, 1))}\n",
        "param_grid_C = {'C': list(np.arange(0, 10, 0.1))}\n",
        "\n",
        "grid_search_C = GridSearchCV(svm_model, param_grid_C,cv=5)\n",
        "grid_search_C.fit(X_train, y_train)\n",
        "\n",
        "best_C = grid_search_C.best_params_['C']\n"
      ],
      "metadata": {
        "colab": {
          "base_uri": "https://localhost:8080/"
        },
        "id": "8VcvOqInAUY2",
        "outputId": "e03f6eea-9221-481b-feca-f9d0e7735179"
      },
      "execution_count": 241,
      "outputs": [
        {
          "output_type": "stream",
          "name": "stderr",
          "text": [
            "/usr/local/lib/python3.10/dist-packages/sklearn/model_selection/_validation.py:378: FitFailedWarning: \n",
            "5 fits failed out of a total of 500.\n",
            "The score on these train-test partitions for these parameters will be set to nan.\n",
            "If these failures are not expected, you can try to debug them by setting error_score='raise'.\n",
            "\n",
            "Below are more details about the failures:\n",
            "--------------------------------------------------------------------------------\n",
            "5 fits failed with the following error:\n",
            "Traceback (most recent call last):\n",
            "  File \"/usr/local/lib/python3.10/dist-packages/sklearn/model_selection/_validation.py\", line 686, in _fit_and_score\n",
            "    estimator.fit(X_train, y_train, **fit_params)\n",
            "  File \"/usr/local/lib/python3.10/dist-packages/sklearn/svm/_base.py\", line 180, in fit\n",
            "    self._validate_params()\n",
            "  File \"/usr/local/lib/python3.10/dist-packages/sklearn/base.py\", line 600, in _validate_params\n",
            "    validate_parameter_constraints(\n",
            "  File \"/usr/local/lib/python3.10/dist-packages/sklearn/utils/_param_validation.py\", line 97, in validate_parameter_constraints\n",
            "    raise InvalidParameterError(\n",
            "sklearn.utils._param_validation.InvalidParameterError: The 'C' parameter of SVC must be a float in the range (0.0, inf). Got 0.0 instead.\n",
            "\n",
            "  warnings.warn(some_fits_failed_message, FitFailedWarning)\n",
            "/usr/local/lib/python3.10/dist-packages/sklearn/model_selection/_search.py:952: UserWarning: One or more of the test scores are non-finite: [       nan 0.93333333 0.97222222 0.98888889 0.98888889 0.98888889\n",
            " 0.98888889 0.98888889 0.98888889 0.98888889 0.98888889 0.98888889\n",
            " 0.98888889 0.98888889 0.98888889 0.98888889 0.98888889 0.98888889\n",
            " 0.98888889 0.98888889 0.98888889 0.98888889 0.98888889 0.98888889\n",
            " 0.98888889 0.98888889 0.98888889 0.98888889 0.98888889 0.98888889\n",
            " 0.98888889 0.98888889 0.98888889 0.98888889 0.98888889 0.98888889\n",
            " 0.98888889 0.98888889 0.98888889 0.98888889 0.98888889 0.98888889\n",
            " 0.98888889 0.98888889 0.98888889 0.98888889 0.98888889 0.98888889\n",
            " 0.98888889 0.98888889 0.98888889 0.98888889 0.98888889 0.98888889\n",
            " 0.98888889 0.98888889 0.99444444 0.99444444 0.99444444 0.99444444\n",
            " 0.99444444 0.99444444 0.99444444 0.99444444 0.99444444 0.99444444\n",
            " 0.99444444 0.99444444 0.99444444 0.99444444 0.99444444 0.99444444\n",
            " 0.99444444 0.99444444 0.99444444 0.99444444 0.99444444 0.99444444\n",
            " 0.99444444 0.99444444 0.99444444 0.99444444 0.99444444 0.99444444\n",
            " 0.99444444 0.99444444 0.99444444 0.99444444 0.99444444 0.99444444\n",
            " 0.99444444 0.99444444 0.99444444 0.99444444 0.99444444 0.99444444\n",
            " 0.99444444 0.99444444 0.99444444 0.99444444]\n",
            "  warnings.warn(\n"
          ]
        }
      ]
    },
    {
      "cell_type": "markdown",
      "source": [
        "#Select best gamma"
      ],
      "metadata": {
        "id": "v81BVvpIEiWy"
      }
    },
    {
      "cell_type": "code",
      "source": [
        "if best_kernel=='rbf':\n",
        "  param_grid_g = {'gamma':  np.append(np.arange(0.001, 1, 0.0001), 'scale')}\n",
        "  #param_grid_g = {'gamma': list(np.arange(0, 10, 0.01))}\n",
        "\n",
        "\n",
        "  grid_search_g = GridSearchCV(svm_model, param_grid_g,cv=5)  # Initialize the grid search with cross-validation\n",
        "  grid_search_g.fit(X_train, y_train)  # Fit the grid search to the training data\n",
        "\n",
        "  best_gamma = grid_search_g.best_params_['gamma']  # Get the best gamma value\n"
      ],
      "metadata": {
        "colab": {
          "base_uri": "https://localhost:8080/"
        },
        "id": "eMY1gyU1DUCy",
        "outputId": "a1904d98-de27-4851-99ff-c451b1db2db4"
      },
      "execution_count": 242,
      "outputs": [
        {
          "output_type": "stream",
          "name": "stderr",
          "text": [
            "IOPub data rate exceeded.\n",
            "The notebook server will temporarily stop sending output\n",
            "to the client in order to avoid crashing it.\n",
            "To change this limit, set the config variable\n",
            "`--NotebookApp.iopub_data_rate_limit`.\n",
            "\n",
            "Current values:\n",
            "NotebookApp.iopub_data_rate_limit=1000000.0 (bytes/sec)\n",
            "NotebookApp.rate_limit_window=3.0 (secs)\n",
            "\n"
          ]
        }
      ]
    },
    {
      "cell_type": "code",
      "source": [
        "if best_kernel=='poly':\n",
        "  grid_search_degree = {'degree': np.arange(1, 10)}\n",
        "\n",
        "\n",
        "  svm_model = SVC(kernel='poly')\n",
        "\n",
        "\n",
        "  grid_search_degree = GridSearchCV(svm_model, grid_search_degree, cv=5)\n",
        "  grid_search_degree.fit(X_train, y_train)\n",
        "\n",
        "  best_degree = grid_search_degree.best_params_['degree']\n"
      ],
      "metadata": {
        "id": "bLqbhABDiI0F"
      },
      "execution_count": 243,
      "outputs": []
    },
    {
      "cell_type": "markdown",
      "source": [
        "#ploting best model"
      ],
      "metadata": {
        "id": "oe8IVEa3vvDh"
      }
    },
    {
      "cell_type": "code",
      "source": [
        "scaler = StandardScaler()\n",
        "X_train = scaler.fit_transform(X_train)\n",
        "\n",
        "if best_kernel=='linear':\n",
        "  best_svm_model = SVC(C=best_C,  kernel=best_kernel)\n",
        "\n",
        "elif best_kernel=='rbf':\n",
        "  best_svm_model = SVC(C=best_C, gamma=best_gamma, kernel=best_kernel)\n",
        "\n",
        "elif best_kernel=='poly':\n",
        "  best_svm_model = SVC(C=best_C, degree=best_degree, kernel=best_kernel)\n",
        "\n",
        "\n",
        "\n",
        "\n",
        "best_svm_model.fit(X_train, y_train)\n",
        "\n",
        "fig = plot_decision_regions(X=X_train, y=y_train, clf=best_svm_model, legend=2, markers='x^sv<>')\n",
        "plt.title(\"best model\")\n",
        "\n",
        "plt.show()\n",
        "\n"
      ],
      "metadata": {
        "id": "urbdxWMhvubd",
        "colab": {
          "base_uri": "https://localhost:8080/",
          "height": 507
        },
        "outputId": "20af2062-a3af-430b-ffd5-b9b76e4c0974"
      },
      "execution_count": 244,
      "outputs": [
        {
          "output_type": "stream",
          "name": "stderr",
          "text": [
            "/usr/local/lib/python3.10/dist-packages/mlxtend/plotting/decision_regions.py:346: UserWarning: You passed a edgecolor/edgecolors ('black') for an unfilled marker ('x').  Matplotlib is ignoring the edgecolor in favor of the facecolor.  This behavior may change in the future.\n",
            "  ax.scatter(\n"
          ]
        },
        {
          "output_type": "display_data",
          "data": {
            "text/plain": [
              "<Figure size 640x480 with 1 Axes>"
            ],
            "image/png": "[encoded data removed]"
          },
          "metadata": {}
        }
      ]
    },
    {
      "cell_type": "markdown",
      "source": [
        "#Validation accuracy"
      ],
      "metadata": {
        "id": "YwRTHcH3lqRL"
      }
    },
    {
      "cell_type": "code",
      "source": [
        "X_val = scaler.transform(X_val)\n",
        "y_pred = best_svm_model.predict(X_val)\n",
        "test_accuracy = accuracy_score(y_val, y_pred)*100\n",
        "print(f\"The accuracy of the best SVM model on the validation set is: {test_accuracy:.4f}%\")\n",
        "best_svm_model.get_params()"
      ],
      "metadata": {
        "id": "vNfbLTYxkHHx",
        "colab": {
          "base_uri": "https://localhost:8080/"
        },
        "outputId": "a5d61759-b2c0-40bf-96b4-31e2afe98b0c"
      },
      "execution_count": 245,
      "outputs": [
        {
          "output_type": "stream",
          "name": "stdout",
          "text": [
            "The accuracy of the best SVM model on the validation set is: 100.0000%\n"
          ]
        },
        {
          "output_type": "execute_result",
          "data": {
            "text/plain": [
              "{'C': 5.6000000000000005,\n",
              " 'break_ties': False,\n",
              " 'cache_size': 200,\n",
              " 'class_weight': None,\n",
              " 'coef0': 0.0,\n",
              " 'decision_function_shape': 'ovr',\n",
              " 'degree': 3,\n",
              " 'gamma': 'scale',\n",
              " 'kernel': 'rbf',\n",
              " 'max_iter': -1,\n",
              " 'probability': False,\n",
              " 'random_state': None,\n",
              " 'shrinking': True,\n",
              " 'tol': 0.001,\n",
              " 'verbose': False}"
            ]
          },
          "metadata": {},
          "execution_count": 245
        }
      ]
    },
    {
      "cell_type": "markdown",
      "source": [
        "#Test accuracy"
      ],
      "metadata": {
        "id": "M8B66eRBl6lJ"
      }
    },
    {
      "cell_type": "code",
      "source": [
        "X_test = scaler.transform(X_test)\n",
        "y_pred = best_svm_model.predict(X_test)\n",
        "test_accuracy = accuracy_score(y_test, y_pred)*100\n",
        "print(f\"The accuracy of the best SVM model on the test set is: {test_accuracy:.4f}%\")"
      ],
      "metadata": {
        "colab": {
          "base_uri": "https://localhost:8080/"
        },
        "id": "FCOZK1dxkm2U",
        "outputId": "36a9dbf1-ef8f-4556-b8be-aa965d9e597c"
      },
      "execution_count": 246,
      "outputs": [
        {
          "output_type": "stream",
          "name": "stdout",
          "text": [
            "The accuracy of the best SVM model on the test set is: 98.3333%\n"
          ]
        }
      ]
    }
  ]
}